{
  "cells": [
    {
      "cell_type": "markdown",
      "metadata": {},
      "source": [
        "---\n",
        "title: \"Matching Donations and Charitable Giving: A Replication Study\"\n",
        "author: \"Ouwen Jia\"\n",
        "format: html\n",
        "jupyter: python3\n",
        "---\n",
        "\n",
        "## Introduction\n",
        "\n",
        "Charitable organizations often experiment with matching donation offers to encourage more contributions from potential donors. But does increasing the matching ratio always lead to more giving? This project replicates key findings from Karlan and List (2007), who conducted a large-scale field experiment using over 50,000 fundraising letters.\n",
        "\n",
        "Our goal is to revisit their central question using the provided dataset and modern Python tools. We focus on both the overall treatment effect and explore whether different matching ratios (1:1, 2:1, 3:1) influence donor behavior differently.\n",
        "\n",
        "## Data Overview\n",
        "\n",
        "We use the dataset released alongside the study, which includes individual-level data on treatment assignment, prior donation behavior, demographic proxies, and outcomes of interest."
      ],
      "id": "223220e9"
    },
    {
      "cell_type": "code",
      "metadata": {},
      "source": [
        "import pandas as pd\n",
        "\n",
        "# Load the dataset\n",
        "df = pd.read_stata(\"karlan_list_2007.dta\")\n",
        "\n",
        "# Basic variable check\n",
        "df[[\"treatment\", \"gave\", \"amount\", \"ratio\", \"size\", \"ask\"]].head()"
      ],
      "id": "971349ad",
      "execution_count": null,
      "outputs": []
    },
    {
      "cell_type": "markdown",
      "metadata": {},
      "source": [
        "We focus on two main outcomes: whether a donation was made (`gave`), and the amount donated (`amount`). Treatment groups were assigned different match ratios and solicitation wordings.\n",
        "\n",
        "## Exploratory Data Analysis\n",
        "\n",
        "### Treatment vs. Control: Donation Rates"
      ],
      "id": "af27b5fb"
    },
    {
      "cell_type": "code",
      "metadata": {},
      "source": [
        "import matplotlib.pyplot as plt\n",
        "\n",
        "# Compare donation rates by treatment group\n",
        "summary = df.groupby(\"treatment\").agg(response_rate=(\"gave\", \"mean\")).reset_index()\n",
        "plt.bar([\"Control\", \"Treatment\"], summary[\"response_rate\"], color=[\"#6baed6\", \"#fd8d3c\"])\n",
        "plt.title(\"Donation Rate: Treatment vs Control\")\n",
        "plt.ylabel(\"Proportion Donating\")\n",
        "plt.grid(axis='y', linestyle='--', alpha=0.5)\n",
        "plt.show()"
      ],
      "id": "299069b2",
      "execution_count": null,
      "outputs": []
    },
    {
      "cell_type": "markdown",
      "metadata": {},
      "source": [
        "The figure shows a higher donation rate among individuals in the treatment group who received a matching offer.\n",
        "\n",
        "### Match Ratio Effects (1:1 vs. 2:1 vs. 3:1)"
      ],
      "id": "1f442588"
    },
    {
      "cell_type": "code",
      "metadata": {},
      "source": [
        "import seaborn as sns\n",
        "\n",
        "# Only among treated\n",
        "treated = df[df['treatment'] == 1]\n",
        "ratio_summary = treated.groupby(\"ratio\").agg(response_rate=(\"gave\", \"mean\")).reset_index()\n",
        "\n",
        "sns.barplot(data=ratio_summary, x=\"ratio\", y=\"response_rate\", palette=\"Set2\")\n",
        "plt.title(\"Donation Rate by Match Ratio\")\n",
        "plt.ylabel(\"Donation Rate\")\n",
        "plt.xlabel(\"Match Ratio\")\n",
        "plt.grid(axis='y', linestyle='--', alpha=0.5)\n",
        "plt.show()"
      ],
      "id": "71954101",
      "execution_count": null,
      "outputs": []
    },
    {
      "cell_type": "markdown",
      "metadata": {},
      "source": [
        "While all match ratios outperform the control group, increasing the match beyond 1:1 offers diminishing returns.\n",
        "\n",
        "## Regression Analysis\n",
        "\n",
        "To quantify the treatment effect, we fit a logistic regression where the dependent variable is whether an individual donated."
      ],
      "id": "342c177b"
    },
    {
      "cell_type": "code",
      "metadata": {},
      "source": [
        "import statsmodels.api as sm\n",
        "import statsmodels.formula.api as smf\n",
        "\n",
        "model = smf.logit(\"gave ~ treatment + ratio2 + ratio3\", data=df).fit()"
      ],
      "id": "7cf7886e",
      "execution_count": null,
      "outputs": []
    },
    {
      "cell_type": "code",
      "metadata": {},
      "source": [
        "# Clean output\n",
        "model.summary2().tables[1].round(3)"
      ],
      "id": "cf59fc76",
      "execution_count": null,
      "outputs": []
    },
    {
      "cell_type": "markdown",
      "metadata": {},
      "source": [
        "The results confirm that the matching treatment significantly increases the probability of donating, while higher match ratios (2:1, 3:1) do not show significant improvements compared to the baseline 1:1.\n",
        "\n",
        "## Heterogeneous Effects\n",
        "\n",
        "The original study notes differences based on political context. We replicate this by comparing red vs. blue states:"
      ],
      "id": "7fd2f7a0"
    },
    {
      "cell_type": "code",
      "metadata": {},
      "source": [
        "df[\"is_red_state\"] = df[\"red0\"] > 0.5\n",
        "\n",
        "df.groupby(\"is_red_state\").agg(\n",
        "    control_rate=(\"gave\", lambda x: x[df[\"treatment\"] == 0].mean()),\n",
        "    treatment_rate=(\"gave\", lambda x: x[df[\"treatment\"] == 1].mean())\n",
        ")"
      ],
      "id": "1bb204d3",
      "execution_count": null,
      "outputs": []
    },
    {
      "cell_type": "markdown",
      "metadata": {},
      "source": [
        "We find that individuals in red states responded more to the matching offer, consistent with the original study's heterogeneity findings.\n",
        "\n",
        "## Conclusion\n",
        "\n",
        "In this replication, we confirm that matching donations do significantly raise response rates. However, increasing the match ratio does not meaningfully improve donation behavior beyond the basic 1:1 match. These findings support the original study and offer important implications for fundraising strategies."
      ],
      "id": "b566bfa4"
    }
  ],
  "metadata": {
    "kernelspec": {
      "name": "python3",
      "language": "python",
      "display_name": "Python 3 (ipykernel)",
      "path": "/opt/conda/share/jupyter/kernels/python3"
    }
  },
  "nbformat": 4,
  "nbformat_minor": 5
}